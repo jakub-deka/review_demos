{
 "cells": [
  {
   "cell_type": "markdown",
   "metadata": {},
   "source": [
    "# Check that ollama is reachable"
   ]
  },
  {
   "cell_type": "code",
   "execution_count": 2,
   "metadata": {},
   "outputs": [
    {
     "data": {
      "text/plain": [
       "b'Ollama is running'"
      ]
     },
     "execution_count": 2,
     "metadata": {},
     "output_type": "execute_result"
    }
   ],
   "source": [
    "import requests\n",
    "\n",
    "c = requests.get(\"http://llm_host:11434\")\n",
    "c.content # expect b'Ollama is running'"
   ]
  },
  {
   "cell_type": "markdown",
   "metadata": {},
   "source": [
    "# Run simple call to the model"
   ]
  },
  {
   "cell_type": "code",
   "execution_count": 25,
   "metadata": {},
   "outputs": [
    {
     "name": "stdout",
     "output_type": "stream",
     "text": [
      "Seasoning a cast iron pan is an essential process that creates a non-stick surface and prevents rust from forming. Here's a step-by-step guide on how to season a cast iron pan:\n",
      "\n",
      "**Before Seasoning**\n",
      "\n",
      "1. **Clean the pan**: Scourge any debris, grime, or old seasoning off the pan using hot water and a stiff brush (a wire brush works well). For stuck-on food, mix equal parts water and white vinegar in the pan, bring to a boil, then scrub with a soft sponge.\n",
      "2. **Dry the pan thoroughly**: Use a towel to dry the pan inside and out.\n",
      "\n",
      "**Seasoning Process**\n",
      "\n",
      "1. **Apply a thin layer of oil**: Using a paper towel or cloth, apply a thin, even layer of cooking oil (such as vegetable oil, canola oil, or peanut oil) to the entire surface of the pan, including the handle and underside.\n",
      "2. **Place the pan in the oven**: Preheat your oven to 350°F (175°C). Once hot, place the pan upside down on the middle rack for at least 1 hour. This helps the oil penetrate deep into the metal.\n",
      "3. **Let it cool**: After an hour, turn off the oven and let the pan cool completely with the oven still warm.\n",
      "4. **Wipe off excess oil**: Using a paper towel or cloth, gently wipe off any excess oil that has not been absorbed by the pan. You may need to repeat this process 2-3 times until most of the oil is gone.\n",
      "\n",
      "**Maintenance and Re-Seasoning**\n",
      "\n",
      "1. **Avoid using soap or harsh chemicals**: These can strip away the seasoning.\n",
      "2. **Dry the pan thoroughly after washing**: Use a towel to dry the pan, and apply a small amount of oil to maintain the seasoning.\n",
      "3. **Re-season the pan as needed**: If you notice the pan starting to rust or the seasoning wearing off, repeat the seasonings process.\n",
      "\n",
      "**Tips and Variations**\n",
      "\n",
      "1. **Use flaxseed oil or olive oil for a non-stick surface**: These oils have a higher smoke point than other vegetable oils, making them ideal for high-heat cooking.\n",
      "2. **Add a layer of beeswax or carnauba wax for added protection**: These natural waxes can help prevent rust and maintain the seasoning.\n",
      "3. **Season the pan at room temperature**: If you don't have access to an oven, you can season the pan at room temperature by applying oil and letting it sit for 24 hours before wiping off excess oil.\n",
      "\n",
      "By following these steps and tips, you'll be able to create a well-seasoned cast iron pan that will last for many years with proper care. Happy cooking!\n"
     ]
    }
   ],
   "source": [
    "import requests\n",
    "import json\n",
    "\n",
    "url = \"http://llm_host:11434/api/generate\"\n",
    "\n",
    "payload = {\n",
    "    \"model\": \"llama3:instruct\",\n",
    "    \"prompt\": \"How do I season a cast iron pan?\",\n",
    "    \"stream\": False\n",
    "}\n",
    "\n",
    "# json.dumps(payload)\n",
    "r = requests.post(url, data=json.dumps(payload))\n",
    "response = json.loads(r.content.decode())\n",
    "print(response[\"response\"])"
   ]
  }
 ],
 "metadata": {
  "kernelspec": {
   "display_name": "Python 3",
   "language": "python",
   "name": "python3"
  },
  "language_info": {
   "codemirror_mode": {
    "name": "ipython",
    "version": 3
   },
   "file_extension": ".py",
   "mimetype": "text/x-python",
   "name": "python",
   "nbconvert_exporter": "python",
   "pygments_lexer": "ipython3",
   "version": "3.12.4"
  }
 },
 "nbformat": 4,
 "nbformat_minor": 2
}
